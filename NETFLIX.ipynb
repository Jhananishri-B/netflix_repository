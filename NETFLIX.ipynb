{
 "cells": [
  {
   "cell_type": "markdown",
   "id": "516e24d9-6406-4cdd-b8ab-23930c4ee003",
   "metadata": {},
   "source": [
    "                     Part 1 – Basic Data Understanding (Pandas)"
   ]
  },
  {
   "cell_type": "markdown",
   "id": "9eed6e84-796a-490b-b45c-3fd28a49d577",
   "metadata": {},
   "source": [
    "1)Load the CSV file into a Pandas DataFrame."
   ]
  },
  {
   "cell_type": "code",
   "execution_count": 32,
   "id": "5a74325e-da19-4459-be3a-dfa7020a8ab8",
   "metadata": {},
   "outputs": [],
   "source": [
    "import pandas as pd\n",
    "import numpy as np\n",
    "import matplotlib.pyplot as plt\n",
    "df=pd.read_csv(\"D:/Netflix_task/netflix_titles.csv\")"
   ]
  },
  {
   "cell_type": "markdown",
   "id": "f9dfe3ac-e352-4a6f-9456-f428502eb742",
   "metadata": {},
   "source": [
    "2)Display the first 10 rows of the dataset."
   ]
  },
  {
   "cell_type": "code",
   "execution_count": 3,
   "id": "e7341050-677b-4fb2-b90a-d2cf025b64f2",
   "metadata": {},
   "outputs": [
    {
     "data": {
      "text/html": [
       "<div>\n",
       "<style scoped>\n",
       "    .dataframe tbody tr th:only-of-type {\n",
       "        vertical-align: middle;\n",
       "    }\n",
       "\n",
       "    .dataframe tbody tr th {\n",
       "        vertical-align: top;\n",
       "    }\n",
       "\n",
       "    .dataframe thead th {\n",
       "        text-align: right;\n",
       "    }\n",
       "</style>\n",
       "<table border=\"1\" class=\"dataframe\">\n",
       "  <thead>\n",
       "    <tr style=\"text-align: right;\">\n",
       "      <th></th>\n",
       "      <th>show_id</th>\n",
       "      <th>type</th>\n",
       "      <th>title</th>\n",
       "      <th>director</th>\n",
       "      <th>cast</th>\n",
       "      <th>country</th>\n",
       "      <th>date_added</th>\n",
       "      <th>release_year</th>\n",
       "      <th>rating</th>\n",
       "      <th>duration</th>\n",
       "      <th>listed_in</th>\n",
       "      <th>description</th>\n",
       "    </tr>\n",
       "  </thead>\n",
       "  <tbody>\n",
       "    <tr>\n",
       "      <th>0</th>\n",
       "      <td>s1</td>\n",
       "      <td>Movie</td>\n",
       "      <td>Dick Johnson Is Dead</td>\n",
       "      <td>Kirsten Johnson</td>\n",
       "      <td>NaN</td>\n",
       "      <td>United States</td>\n",
       "      <td>September 25, 2021</td>\n",
       "      <td>2020</td>\n",
       "      <td>PG-13</td>\n",
       "      <td>90 min</td>\n",
       "      <td>Documentaries</td>\n",
       "      <td>As her father nears the end of his life, filmm...</td>\n",
       "    </tr>\n",
       "    <tr>\n",
       "      <th>1</th>\n",
       "      <td>s2</td>\n",
       "      <td>TV Show</td>\n",
       "      <td>Blood &amp; Water</td>\n",
       "      <td>NaN</td>\n",
       "      <td>Ama Qamata, Khosi Ngema, Gail Mabalane, Thaban...</td>\n",
       "      <td>South Africa</td>\n",
       "      <td>September 24, 2021</td>\n",
       "      <td>2021</td>\n",
       "      <td>TV-MA</td>\n",
       "      <td>2 Seasons</td>\n",
       "      <td>International TV Shows, TV Dramas, TV Mysteries</td>\n",
       "      <td>After crossing paths at a party, a Cape Town t...</td>\n",
       "    </tr>\n",
       "    <tr>\n",
       "      <th>2</th>\n",
       "      <td>s3</td>\n",
       "      <td>TV Show</td>\n",
       "      <td>Ganglands</td>\n",
       "      <td>Julien Leclercq</td>\n",
       "      <td>Sami Bouajila, Tracy Gotoas, Samuel Jouy, Nabi...</td>\n",
       "      <td>NaN</td>\n",
       "      <td>September 24, 2021</td>\n",
       "      <td>2021</td>\n",
       "      <td>TV-MA</td>\n",
       "      <td>1 Season</td>\n",
       "      <td>Crime TV Shows, International TV Shows, TV Act...</td>\n",
       "      <td>To protect his family from a powerful drug lor...</td>\n",
       "    </tr>\n",
       "    <tr>\n",
       "      <th>3</th>\n",
       "      <td>s4</td>\n",
       "      <td>TV Show</td>\n",
       "      <td>Jailbirds New Orleans</td>\n",
       "      <td>NaN</td>\n",
       "      <td>NaN</td>\n",
       "      <td>NaN</td>\n",
       "      <td>September 24, 2021</td>\n",
       "      <td>2021</td>\n",
       "      <td>TV-MA</td>\n",
       "      <td>1 Season</td>\n",
       "      <td>Docuseries, Reality TV</td>\n",
       "      <td>Feuds, flirtations and toilet talk go down amo...</td>\n",
       "    </tr>\n",
       "    <tr>\n",
       "      <th>4</th>\n",
       "      <td>s5</td>\n",
       "      <td>TV Show</td>\n",
       "      <td>Kota Factory</td>\n",
       "      <td>NaN</td>\n",
       "      <td>Mayur More, Jitendra Kumar, Ranjan Raj, Alam K...</td>\n",
       "      <td>India</td>\n",
       "      <td>September 24, 2021</td>\n",
       "      <td>2021</td>\n",
       "      <td>TV-MA</td>\n",
       "      <td>2 Seasons</td>\n",
       "      <td>International TV Shows, Romantic TV Shows, TV ...</td>\n",
       "      <td>In a city of coaching centers known to train I...</td>\n",
       "    </tr>\n",
       "    <tr>\n",
       "      <th>5</th>\n",
       "      <td>s6</td>\n",
       "      <td>TV Show</td>\n",
       "      <td>Midnight Mass</td>\n",
       "      <td>Mike Flanagan</td>\n",
       "      <td>Kate Siegel, Zach Gilford, Hamish Linklater, H...</td>\n",
       "      <td>NaN</td>\n",
       "      <td>September 24, 2021</td>\n",
       "      <td>2021</td>\n",
       "      <td>TV-MA</td>\n",
       "      <td>1 Season</td>\n",
       "      <td>TV Dramas, TV Horror, TV Mysteries</td>\n",
       "      <td>The arrival of a charismatic young priest brin...</td>\n",
       "    </tr>\n",
       "    <tr>\n",
       "      <th>6</th>\n",
       "      <td>s7</td>\n",
       "      <td>Movie</td>\n",
       "      <td>My Little Pony: A New Generation</td>\n",
       "      <td>Robert Cullen, José Luis Ucha</td>\n",
       "      <td>Vanessa Hudgens, Kimiko Glenn, James Marsden, ...</td>\n",
       "      <td>NaN</td>\n",
       "      <td>September 24, 2021</td>\n",
       "      <td>2021</td>\n",
       "      <td>PG</td>\n",
       "      <td>91 min</td>\n",
       "      <td>Children &amp; Family Movies</td>\n",
       "      <td>Equestria's divided. But a bright-eyed hero be...</td>\n",
       "    </tr>\n",
       "    <tr>\n",
       "      <th>7</th>\n",
       "      <td>s8</td>\n",
       "      <td>Movie</td>\n",
       "      <td>Sankofa</td>\n",
       "      <td>Haile Gerima</td>\n",
       "      <td>Kofi Ghanaba, Oyafunmike Ogunlano, Alexandra D...</td>\n",
       "      <td>United States, Ghana, Burkina Faso, United Kin...</td>\n",
       "      <td>September 24, 2021</td>\n",
       "      <td>1993</td>\n",
       "      <td>TV-MA</td>\n",
       "      <td>125 min</td>\n",
       "      <td>Dramas, Independent Movies, International Movies</td>\n",
       "      <td>On a photo shoot in Ghana, an American model s...</td>\n",
       "    </tr>\n",
       "    <tr>\n",
       "      <th>8</th>\n",
       "      <td>s9</td>\n",
       "      <td>TV Show</td>\n",
       "      <td>The Great British Baking Show</td>\n",
       "      <td>Andy Devonshire</td>\n",
       "      <td>Mel Giedroyc, Sue Perkins, Mary Berry, Paul Ho...</td>\n",
       "      <td>United Kingdom</td>\n",
       "      <td>September 24, 2021</td>\n",
       "      <td>2021</td>\n",
       "      <td>TV-14</td>\n",
       "      <td>9 Seasons</td>\n",
       "      <td>British TV Shows, Reality TV</td>\n",
       "      <td>A talented batch of amateur bakers face off in...</td>\n",
       "    </tr>\n",
       "    <tr>\n",
       "      <th>9</th>\n",
       "      <td>s10</td>\n",
       "      <td>Movie</td>\n",
       "      <td>The Starling</td>\n",
       "      <td>Theodore Melfi</td>\n",
       "      <td>Melissa McCarthy, Chris O'Dowd, Kevin Kline, T...</td>\n",
       "      <td>United States</td>\n",
       "      <td>September 24, 2021</td>\n",
       "      <td>2021</td>\n",
       "      <td>PG-13</td>\n",
       "      <td>104 min</td>\n",
       "      <td>Comedies, Dramas</td>\n",
       "      <td>A woman adjusting to life after a loss contend...</td>\n",
       "    </tr>\n",
       "  </tbody>\n",
       "</table>\n",
       "</div>"
      ],
      "text/plain": [
       "  show_id     type                             title  \\\n",
       "0      s1    Movie              Dick Johnson Is Dead   \n",
       "1      s2  TV Show                     Blood & Water   \n",
       "2      s3  TV Show                         Ganglands   \n",
       "3      s4  TV Show             Jailbirds New Orleans   \n",
       "4      s5  TV Show                      Kota Factory   \n",
       "5      s6  TV Show                     Midnight Mass   \n",
       "6      s7    Movie  My Little Pony: A New Generation   \n",
       "7      s8    Movie                           Sankofa   \n",
       "8      s9  TV Show     The Great British Baking Show   \n",
       "9     s10    Movie                      The Starling   \n",
       "\n",
       "                        director  \\\n",
       "0                Kirsten Johnson   \n",
       "1                            NaN   \n",
       "2                Julien Leclercq   \n",
       "3                            NaN   \n",
       "4                            NaN   \n",
       "5                  Mike Flanagan   \n",
       "6  Robert Cullen, José Luis Ucha   \n",
       "7                   Haile Gerima   \n",
       "8                Andy Devonshire   \n",
       "9                 Theodore Melfi   \n",
       "\n",
       "                                                cast  \\\n",
       "0                                                NaN   \n",
       "1  Ama Qamata, Khosi Ngema, Gail Mabalane, Thaban...   \n",
       "2  Sami Bouajila, Tracy Gotoas, Samuel Jouy, Nabi...   \n",
       "3                                                NaN   \n",
       "4  Mayur More, Jitendra Kumar, Ranjan Raj, Alam K...   \n",
       "5  Kate Siegel, Zach Gilford, Hamish Linklater, H...   \n",
       "6  Vanessa Hudgens, Kimiko Glenn, James Marsden, ...   \n",
       "7  Kofi Ghanaba, Oyafunmike Ogunlano, Alexandra D...   \n",
       "8  Mel Giedroyc, Sue Perkins, Mary Berry, Paul Ho...   \n",
       "9  Melissa McCarthy, Chris O'Dowd, Kevin Kline, T...   \n",
       "\n",
       "                                             country          date_added  \\\n",
       "0                                      United States  September 25, 2021   \n",
       "1                                       South Africa  September 24, 2021   \n",
       "2                                                NaN  September 24, 2021   \n",
       "3                                                NaN  September 24, 2021   \n",
       "4                                              India  September 24, 2021   \n",
       "5                                                NaN  September 24, 2021   \n",
       "6                                                NaN  September 24, 2021   \n",
       "7  United States, Ghana, Burkina Faso, United Kin...  September 24, 2021   \n",
       "8                                     United Kingdom  September 24, 2021   \n",
       "9                                      United States  September 24, 2021   \n",
       "\n",
       "   release_year rating   duration  \\\n",
       "0          2020  PG-13     90 min   \n",
       "1          2021  TV-MA  2 Seasons   \n",
       "2          2021  TV-MA   1 Season   \n",
       "3          2021  TV-MA   1 Season   \n",
       "4          2021  TV-MA  2 Seasons   \n",
       "5          2021  TV-MA   1 Season   \n",
       "6          2021     PG     91 min   \n",
       "7          1993  TV-MA    125 min   \n",
       "8          2021  TV-14  9 Seasons   \n",
       "9          2021  PG-13    104 min   \n",
       "\n",
       "                                           listed_in  \\\n",
       "0                                      Documentaries   \n",
       "1    International TV Shows, TV Dramas, TV Mysteries   \n",
       "2  Crime TV Shows, International TV Shows, TV Act...   \n",
       "3                             Docuseries, Reality TV   \n",
       "4  International TV Shows, Romantic TV Shows, TV ...   \n",
       "5                 TV Dramas, TV Horror, TV Mysteries   \n",
       "6                           Children & Family Movies   \n",
       "7   Dramas, Independent Movies, International Movies   \n",
       "8                       British TV Shows, Reality TV   \n",
       "9                                   Comedies, Dramas   \n",
       "\n",
       "                                         description  \n",
       "0  As her father nears the end of his life, filmm...  \n",
       "1  After crossing paths at a party, a Cape Town t...  \n",
       "2  To protect his family from a powerful drug lor...  \n",
       "3  Feuds, flirtations and toilet talk go down amo...  \n",
       "4  In a city of coaching centers known to train I...  \n",
       "5  The arrival of a charismatic young priest brin...  \n",
       "6  Equestria's divided. But a bright-eyed hero be...  \n",
       "7  On a photo shoot in Ghana, an American model s...  \n",
       "8  A talented batch of amateur bakers face off in...  \n",
       "9  A woman adjusting to life after a loss contend...  "
      ]
     },
     "execution_count": 3,
     "metadata": {},
     "output_type": "execute_result"
    }
   ],
   "source": [
    "df.head(10)"
   ]
  },
  {
   "cell_type": "markdown",
   "id": "87923a1a-64ff-4ea1-8fb8-a41de56ad507",
   "metadata": {},
   "source": [
    "3)Show the shape, column names, and data types."
   ]
  },
  {
   "cell_type": "code",
   "execution_count": 5,
   "id": "123ca1d4-c2a0-49ba-939f-75061aff006f",
   "metadata": {},
   "outputs": [
    {
     "data": {
      "text/plain": [
       "(8807, 12)"
      ]
     },
     "execution_count": 5,
     "metadata": {},
     "output_type": "execute_result"
    }
   ],
   "source": [
    "df.shape"
   ]
  },
  {
   "cell_type": "code",
   "execution_count": 6,
   "id": "1086df71-dfb0-417f-a61c-ba69034fbfc2",
   "metadata": {},
   "outputs": [
    {
     "data": {
      "text/plain": [
       "show_id         object\n",
       "type            object\n",
       "title           object\n",
       "director        object\n",
       "cast            object\n",
       "country         object\n",
       "date_added      object\n",
       "release_year     int64\n",
       "rating          object\n",
       "duration        object\n",
       "listed_in       object\n",
       "description     object\n",
       "dtype: object"
      ]
     },
     "execution_count": 6,
     "metadata": {},
     "output_type": "execute_result"
    }
   ],
   "source": [
    "df.dtypes"
   ]
  },
  {
   "cell_type": "code",
   "execution_count": 10,
   "id": "ef599966-1228-4b02-8ea5-565bf0743fa6",
   "metadata": {},
   "outputs": [
    {
     "data": {
      "text/plain": [
       "['show_id',\n",
       " 'type',\n",
       " 'title',\n",
       " 'director',\n",
       " 'cast',\n",
       " 'country',\n",
       " 'date_added',\n",
       " 'release_year',\n",
       " 'rating',\n",
       " 'duration',\n",
       " 'listed_in',\n",
       " 'description']"
      ]
     },
     "execution_count": 10,
     "metadata": {},
     "output_type": "execute_result"
    }
   ],
   "source": [
    "list(df.columns)"
   ]
  },
  {
   "cell_type": "markdown",
   "id": "9f550028-aa2a-45ce-a409-e72a3fad9ae0",
   "metadata": {},
   "source": [
    "4)Check for missing values and duplicates."
   ]
  },
  {
   "cell_type": "code",
   "execution_count": 12,
   "id": "69e974df-c665-4d26-9517-792a6ff46dcc",
   "metadata": {},
   "outputs": [
    {
     "data": {
      "text/html": [
       "<div>\n",
       "<style scoped>\n",
       "    .dataframe tbody tr th:only-of-type {\n",
       "        vertical-align: middle;\n",
       "    }\n",
       "\n",
       "    .dataframe tbody tr th {\n",
       "        vertical-align: top;\n",
       "    }\n",
       "\n",
       "    .dataframe thead th {\n",
       "        text-align: right;\n",
       "    }\n",
       "</style>\n",
       "<table border=\"1\" class=\"dataframe\">\n",
       "  <thead>\n",
       "    <tr style=\"text-align: right;\">\n",
       "      <th></th>\n",
       "      <th>show_id</th>\n",
       "      <th>type</th>\n",
       "      <th>title</th>\n",
       "      <th>director</th>\n",
       "      <th>cast</th>\n",
       "      <th>country</th>\n",
       "      <th>date_added</th>\n",
       "      <th>release_year</th>\n",
       "      <th>rating</th>\n",
       "      <th>duration</th>\n",
       "      <th>listed_in</th>\n",
       "      <th>description</th>\n",
       "    </tr>\n",
       "  </thead>\n",
       "  <tbody>\n",
       "    <tr>\n",
       "      <th>0</th>\n",
       "      <td>False</td>\n",
       "      <td>False</td>\n",
       "      <td>False</td>\n",
       "      <td>False</td>\n",
       "      <td>True</td>\n",
       "      <td>False</td>\n",
       "      <td>False</td>\n",
       "      <td>False</td>\n",
       "      <td>False</td>\n",
       "      <td>False</td>\n",
       "      <td>False</td>\n",
       "      <td>False</td>\n",
       "    </tr>\n",
       "    <tr>\n",
       "      <th>1</th>\n",
       "      <td>False</td>\n",
       "      <td>False</td>\n",
       "      <td>False</td>\n",
       "      <td>True</td>\n",
       "      <td>False</td>\n",
       "      <td>False</td>\n",
       "      <td>False</td>\n",
       "      <td>False</td>\n",
       "      <td>False</td>\n",
       "      <td>False</td>\n",
       "      <td>False</td>\n",
       "      <td>False</td>\n",
       "    </tr>\n",
       "    <tr>\n",
       "      <th>2</th>\n",
       "      <td>False</td>\n",
       "      <td>False</td>\n",
       "      <td>False</td>\n",
       "      <td>False</td>\n",
       "      <td>False</td>\n",
       "      <td>True</td>\n",
       "      <td>False</td>\n",
       "      <td>False</td>\n",
       "      <td>False</td>\n",
       "      <td>False</td>\n",
       "      <td>False</td>\n",
       "      <td>False</td>\n",
       "    </tr>\n",
       "    <tr>\n",
       "      <th>3</th>\n",
       "      <td>False</td>\n",
       "      <td>False</td>\n",
       "      <td>False</td>\n",
       "      <td>True</td>\n",
       "      <td>True</td>\n",
       "      <td>True</td>\n",
       "      <td>False</td>\n",
       "      <td>False</td>\n",
       "      <td>False</td>\n",
       "      <td>False</td>\n",
       "      <td>False</td>\n",
       "      <td>False</td>\n",
       "    </tr>\n",
       "    <tr>\n",
       "      <th>4</th>\n",
       "      <td>False</td>\n",
       "      <td>False</td>\n",
       "      <td>False</td>\n",
       "      <td>True</td>\n",
       "      <td>False</td>\n",
       "      <td>False</td>\n",
       "      <td>False</td>\n",
       "      <td>False</td>\n",
       "      <td>False</td>\n",
       "      <td>False</td>\n",
       "      <td>False</td>\n",
       "      <td>False</td>\n",
       "    </tr>\n",
       "    <tr>\n",
       "      <th>...</th>\n",
       "      <td>...</td>\n",
       "      <td>...</td>\n",
       "      <td>...</td>\n",
       "      <td>...</td>\n",
       "      <td>...</td>\n",
       "      <td>...</td>\n",
       "      <td>...</td>\n",
       "      <td>...</td>\n",
       "      <td>...</td>\n",
       "      <td>...</td>\n",
       "      <td>...</td>\n",
       "      <td>...</td>\n",
       "    </tr>\n",
       "    <tr>\n",
       "      <th>8802</th>\n",
       "      <td>False</td>\n",
       "      <td>False</td>\n",
       "      <td>False</td>\n",
       "      <td>False</td>\n",
       "      <td>False</td>\n",
       "      <td>False</td>\n",
       "      <td>False</td>\n",
       "      <td>False</td>\n",
       "      <td>False</td>\n",
       "      <td>False</td>\n",
       "      <td>False</td>\n",
       "      <td>False</td>\n",
       "    </tr>\n",
       "    <tr>\n",
       "      <th>8803</th>\n",
       "      <td>False</td>\n",
       "      <td>False</td>\n",
       "      <td>False</td>\n",
       "      <td>True</td>\n",
       "      <td>True</td>\n",
       "      <td>True</td>\n",
       "      <td>False</td>\n",
       "      <td>False</td>\n",
       "      <td>False</td>\n",
       "      <td>False</td>\n",
       "      <td>False</td>\n",
       "      <td>False</td>\n",
       "    </tr>\n",
       "    <tr>\n",
       "      <th>8804</th>\n",
       "      <td>False</td>\n",
       "      <td>False</td>\n",
       "      <td>False</td>\n",
       "      <td>False</td>\n",
       "      <td>False</td>\n",
       "      <td>False</td>\n",
       "      <td>False</td>\n",
       "      <td>False</td>\n",
       "      <td>False</td>\n",
       "      <td>False</td>\n",
       "      <td>False</td>\n",
       "      <td>False</td>\n",
       "    </tr>\n",
       "    <tr>\n",
       "      <th>8805</th>\n",
       "      <td>False</td>\n",
       "      <td>False</td>\n",
       "      <td>False</td>\n",
       "      <td>False</td>\n",
       "      <td>False</td>\n",
       "      <td>False</td>\n",
       "      <td>False</td>\n",
       "      <td>False</td>\n",
       "      <td>False</td>\n",
       "      <td>False</td>\n",
       "      <td>False</td>\n",
       "      <td>False</td>\n",
       "    </tr>\n",
       "    <tr>\n",
       "      <th>8806</th>\n",
       "      <td>False</td>\n",
       "      <td>False</td>\n",
       "      <td>False</td>\n",
       "      <td>False</td>\n",
       "      <td>False</td>\n",
       "      <td>False</td>\n",
       "      <td>False</td>\n",
       "      <td>False</td>\n",
       "      <td>False</td>\n",
       "      <td>False</td>\n",
       "      <td>False</td>\n",
       "      <td>False</td>\n",
       "    </tr>\n",
       "  </tbody>\n",
       "</table>\n",
       "<p>8807 rows × 12 columns</p>\n",
       "</div>"
      ],
      "text/plain": [
       "      show_id   type  title  director   cast  country  date_added  \\\n",
       "0       False  False  False     False   True    False       False   \n",
       "1       False  False  False      True  False    False       False   \n",
       "2       False  False  False     False  False     True       False   \n",
       "3       False  False  False      True   True     True       False   \n",
       "4       False  False  False      True  False    False       False   \n",
       "...       ...    ...    ...       ...    ...      ...         ...   \n",
       "8802    False  False  False     False  False    False       False   \n",
       "8803    False  False  False      True   True     True       False   \n",
       "8804    False  False  False     False  False    False       False   \n",
       "8805    False  False  False     False  False    False       False   \n",
       "8806    False  False  False     False  False    False       False   \n",
       "\n",
       "      release_year  rating  duration  listed_in  description  \n",
       "0            False   False     False      False        False  \n",
       "1            False   False     False      False        False  \n",
       "2            False   False     False      False        False  \n",
       "3            False   False     False      False        False  \n",
       "4            False   False     False      False        False  \n",
       "...            ...     ...       ...        ...          ...  \n",
       "8802         False   False     False      False        False  \n",
       "8803         False   False     False      False        False  \n",
       "8804         False   False     False      False        False  \n",
       "8805         False   False     False      False        False  \n",
       "8806         False   False     False      False        False  \n",
       "\n",
       "[8807 rows x 12 columns]"
      ]
     },
     "execution_count": 12,
     "metadata": {},
     "output_type": "execute_result"
    }
   ],
   "source": [
    "df.isnull()"
   ]
  },
  {
   "cell_type": "code",
   "execution_count": 14,
   "id": "9418d5e4-46d6-4cca-9ea1-b79494a280ad",
   "metadata": {},
   "outputs": [
    {
     "data": {
      "text/plain": [
       "0       False\n",
       "1       False\n",
       "2       False\n",
       "3       False\n",
       "4       False\n",
       "        ...  \n",
       "8802    False\n",
       "8803    False\n",
       "8804    False\n",
       "8805    False\n",
       "8806    False\n",
       "Length: 8807, dtype: bool"
      ]
     },
     "execution_count": 14,
     "metadata": {},
     "output_type": "execute_result"
    }
   ],
   "source": [
    "df.duplicated()"
   ]
  },
  {
   "cell_type": "code",
   "execution_count": null,
   "id": "cae255da-33e3-46d4-bfb8-6414822f1ee1",
   "metadata": {},
   "outputs": [],
   "source": [
    "5)Use .describe() for numerical and categorical columns."
   ]
  },
  {
   "cell_type": "code",
   "execution_count": 17,
   "id": "5e92de8f-5c28-4762-abab-cca045901ce8",
   "metadata": {},
   "outputs": [
    {
     "data": {
      "text/html": [
       "<div>\n",
       "<style scoped>\n",
       "    .dataframe tbody tr th:only-of-type {\n",
       "        vertical-align: middle;\n",
       "    }\n",
       "\n",
       "    .dataframe tbody tr th {\n",
       "        vertical-align: top;\n",
       "    }\n",
       "\n",
       "    .dataframe thead th {\n",
       "        text-align: right;\n",
       "    }\n",
       "</style>\n",
       "<table border=\"1\" class=\"dataframe\">\n",
       "  <thead>\n",
       "    <tr style=\"text-align: right;\">\n",
       "      <th></th>\n",
       "      <th>release_year</th>\n",
       "    </tr>\n",
       "  </thead>\n",
       "  <tbody>\n",
       "    <tr>\n",
       "      <th>count</th>\n",
       "      <td>8807.000000</td>\n",
       "    </tr>\n",
       "    <tr>\n",
       "      <th>mean</th>\n",
       "      <td>2014.180198</td>\n",
       "    </tr>\n",
       "    <tr>\n",
       "      <th>std</th>\n",
       "      <td>8.819312</td>\n",
       "    </tr>\n",
       "    <tr>\n",
       "      <th>min</th>\n",
       "      <td>1925.000000</td>\n",
       "    </tr>\n",
       "    <tr>\n",
       "      <th>25%</th>\n",
       "      <td>2013.000000</td>\n",
       "    </tr>\n",
       "    <tr>\n",
       "      <th>50%</th>\n",
       "      <td>2017.000000</td>\n",
       "    </tr>\n",
       "    <tr>\n",
       "      <th>75%</th>\n",
       "      <td>2019.000000</td>\n",
       "    </tr>\n",
       "    <tr>\n",
       "      <th>max</th>\n",
       "      <td>2021.000000</td>\n",
       "    </tr>\n",
       "  </tbody>\n",
       "</table>\n",
       "</div>"
      ],
      "text/plain": [
       "       release_year\n",
       "count   8807.000000\n",
       "mean    2014.180198\n",
       "std        8.819312\n",
       "min     1925.000000\n",
       "25%     2013.000000\n",
       "50%     2017.000000\n",
       "75%     2019.000000\n",
       "max     2021.000000"
      ]
     },
     "execution_count": 17,
     "metadata": {},
     "output_type": "execute_result"
    }
   ],
   "source": [
    "df[['release_year'].describe()"
   ]
  },
  {
   "cell_type": "markdown",
   "id": "b209be06-a608-4ce7-819a-fb239baebe81",
   "metadata": {},
   "source": [
    "6)Get the number of unique values for each column."
   ]
  },
  {
   "cell_type": "code",
   "execution_count": 22,
   "id": "4a75b2a5-4682-4526-82ac-aa61fe5ff2c5",
   "metadata": {},
   "outputs": [
    {
     "data": {
      "text/plain": [
       "show_id         8807\n",
       "type               2\n",
       "title           8807\n",
       "director        4528\n",
       "cast            7692\n",
       "country          748\n",
       "date_added      1767\n",
       "release_year      74\n",
       "rating            17\n",
       "duration         220\n",
       "listed_in        514\n",
       "description     8775\n",
       "dtype: int64"
      ]
     },
     "execution_count": 22,
     "metadata": {},
     "output_type": "execute_result"
    }
   ],
   "source": [
    "df.nunique()"
   ]
  },
  {
   "cell_type": "markdown",
   "id": "9af5392b-e063-4cf8-b189-81f333aaa3e8",
   "metadata": {},
   "source": [
    "7)Display the most frequent value in the country column."
   ]
  },
  {
   "cell_type": "code",
   "execution_count": 23,
   "id": "ae587d41-f6f6-4b96-959a-1749916f17b4",
   "metadata": {},
   "outputs": [
    {
     "data": {
      "text/plain": [
       "0    United States\n",
       "Name: country, dtype: object"
      ]
     },
     "execution_count": 23,
     "metadata": {},
     "output_type": "execute_result"
    }
   ],
   "source": [
    "df['country'].mode()"
   ]
  },
  {
   "cell_type": "markdown",
   "id": "c9ffff35-8474-46ac-8716-ab0db66b9555",
   "metadata": {},
   "source": [
    "                          2)Part 2 – EDA (Exploratory Data Analysis)"
   ]
  },
  {
   "cell_type": "markdown",
   "id": "298ff785-b966-427e-a285-728f6193fa87",
   "metadata": {},
   "source": [
    "1)Plot a bar chart for the count of Movies vs TV Shows."
   ]
  },
  {
   "cell_type": "code",
   "execution_count": 31,
   "id": "90287c94-c869-4970-81ee-c3e3be17fc8c",
   "metadata": {},
   "outputs": [
    {
     "data": {
      "image/png": "[encoded data removed]",
      "text/plain": [
       "<Figure size 640x480 with 1 Axes>"
      ]
     },
     "metadata": {},
     "output_type": "display_data"
    }
   ],
   "source": [
    "import matplotlib.pyplot as plt\n",
    "m=(df['type']== 'Movie').sum()\n",
    "t=(df['type']=='TV Show').sum()\n",
    "\n",
    "plt.bar(['Movie','TV Show'],[m,t])\n",
    "plt.show()"
   ]
  },
  {
   "cell_type": "markdown",
   "id": "da5293dd-2697-4699-8729-760cf16c3d16",
   "metadata": {},
   "source": [
    "2)Find the top 10 countries producing the most content."
   ]
  },
  {
   "cell_type": "code",
   "execution_count": 33,
   "id": "cc6b1de5-341a-483d-974d-5b2b1abeb4f1",
   "metadata": {},
   "outputs": [
    {
     "data": {
      "text/plain": [
       "United States     3690\n",
       "India             1046\n",
       "United Kingdom     806\n",
       "Canada             445\n",
       "France             393\n",
       "Japan              318\n",
       "Spain              232\n",
       "South Korea        231\n",
       "Germany            226\n",
       "Mexico             169\n",
       "Name: count, dtype: int64"
      ]
     },
     "execution_count": 33,
     "metadata": {},
     "output_type": "execute_result"
    }
   ],
   "source": [
    "df_countries = df['country'].str.get_dummies(sep=',').sum().sort_values(ascending=False)\n",
    "country_counts = df_countries.value_counts()\n",
    "country_counts.head(10)"
   ]
  },
  {
   "cell_type": "markdown",
   "id": "6a6a4fa2-3769-49b1-886f-998170788434",
   "metadata": {},
   "source": [
    "3)Find the top 10 most common genres in listed_in."
   ]
  },
  {
   "cell_type": "code",
   "execution_count": 34,
   "id": "10cff9ef-7101-48c2-821f-a015e63d5758",
   "metadata": {},
   "outputs": [
    {
     "name": "stdout",
     "output_type": "stream",
     "text": [
      " International Movies     2624\n",
      "Dramas                    1600\n",
      "Comedies                  1210\n",
      "Action & Adventure         859\n",
      "Documentaries              829\n",
      " Dramas                    827\n",
      "International TV Shows     774\n",
      " Independent Movies        736\n",
      " TV Dramas                 696\n",
      " Romantic Movies           613\n",
      "dtype: int64\n"
     ]
    }
   ],
   "source": [
    "genres_count = df['listed_in'].str.get_dummies(sep=',').sum().sort_values(ascending=False)\n",
    "print(genres_count.head(10))\n"
   ]
  },
  {
   "cell_type": "markdown",
   "id": "6221ccf9-dc18-48fd-8110-e59a554b52f7",
   "metadata": {},
   "source": [
    "4)Scatter plot: release_year vs count of titles."
   ]
  },
  {
   "cell_type": "code",
   "execution_count": 45,
   "id": "8b679cb7-2de2-4f64-bc14-97484fa87791",
   "metadata": {},
   "outputs": [
    {
     "data": {
      "image/png": "[encoded data removed]",
      "text/plain": [
       "<Figure size 1000x600 with 1 Axes>"
      ]
     },
     "metadata": {},
     "output_type": "display_data"
    }
   ],
   "source": [
    "yearly_counts = df.groupby(\"release_year\")[\"title\"].count().reset_index()\n",
    "plt.figure(figsize=(10,6)) \n",
    "plt.scatter(yearly_counts[\"release_year\"], yearly_counts[\"title\"], color='blue', alpha=0.6) \n",
    "plt.title(\"Number of Titles by Release Year\") \n",
    "plt.xlabel(\"Release Year\") \n",
    "plt.ylabel(\"Count of Titles\") \n",
    "plt.show()"
   ]
  },
  {
   "cell_type": "markdown",
   "id": "9c038ef8-61d7-48f5-a9f0-34393ed70e0b",
   "metadata": {},
   "source": [
    "5)Create a histogram of movie durations (in minutes)."
   ]
  },
  {
   "cell_type": "code",
   "execution_count": 40,
   "id": "b24e9a9b-e474-41ed-b1a4-349d5625e795",
   "metadata": {},
   "outputs": [
    {
     "data": {
      "image/png": "[encoded data removed]",
      "text/plain": [
       "<Figure size 1000x600 with 1 Axes>"
      ]
     },
     "metadata": {},
     "output_type": "display_data"
    }
   ],
   "source": [
    "movies = df[df[\"type\"] == \"Movie\"].copy()\n",
    "movies[\"duration_minutes\"] = movies[\"duration\"].str.replace(\" min\", \"\").astype(float)\n",
    "plt.figure(figsize=(10,6))\n",
    "plt.hist(movies[\"duration_minutes\"], bins=20, color='orange', edgecolor='black')\n",
    "plt.title(\"Distribution of Movie Durations\")\n",
    "plt.xlabel(\"Duration (minutes)\")\n",
    "plt.ylabel(\"Number of Movies\")\n",
    "plt.show()\n"
   ]
  },
  {
   "cell_type": "markdown",
   "id": "3270e719-b60d-4023-a316-bf8c06664717",
   "metadata": {},
   "source": [
    "6)Bar chart of the number of titles added per year (based on date_added)."
   ]
  },
  {
   "cell_type": "code",
   "execution_count": 42,
   "id": "c74e69fe-8434-41f7-a89b-bf5538062a16",
   "metadata": {},
   "outputs": [
    {
     "data": {
      "image/png": "[encoded data removed]",
      "text/plain": [
       "<Figure size 1000x600 with 1 Axes>"
      ]
     },
     "metadata": {},
     "output_type": "display_data"
    }
   ],
   "source": [
    "df[\"date_added\"] = pd.to_datetime(df[\"date_added\"], errors=\"coerce\")\n",
    "df[\"year_added\"] = df[\"date_added\"].dt.year\n",
    "titles_per_year = df[\"year_added\"].value_counts().sort_index()\n",
    "plt.figure(figsize=(10,6))\n",
    "plt.bar(titles_per_year.index, titles_per_year.values, color='skyblue', edgecolor='black')\n",
    "plt.title(\"Number of Titles Added per Year\")\n",
    "plt.xlabel(\"Year Added\")\n",
    "plt.ylabel(\"Number of Titles\")\n",
    "plt.show()\n"
   ]
  },
  {
   "cell_type": "markdown",
   "id": "41fbd33e-d7e0-433d-be5c-87700e34e84d",
   "metadata": {},
   "source": [
    "7)Find the year with the highest number of releases.\n"
   ]
  },
  {
   "cell_type": "code",
   "execution_count": 50,
   "id": "c6163ba9-780b-48a0-a2fe-4db4a12ef922",
   "metadata": {},
   "outputs": [
    {
     "name": "stdout",
     "output_type": "stream",
     "text": [
      "2018\n"
     ]
    }
   ],
   "source": [
    "yearly_counts = df.groupby(\"release_year\")[\"title\"].count()\n",
    "max_year = yearly_counts.idxmax()\n",
    "max_count = yearly_counts.max()\n",
    "print(max_year)\n"
   ]
  },
  {
   "cell_type": "markdown",
   "id": "4a27f0b1-7054-4179-912f-5633dd78414f",
   "metadata": {},
   "source": [
    "                                 Part 3 – Statistics"
   ]
  },
  {
   "cell_type": "markdown",
   "id": "e1824dae-7f69-4b7c-9c84-c95b3ae56e33",
   "metadata": {},
   "source": [
    "1)Calculate the mean, median, mode of release_year."
   ]
  },
  {
   "cell_type": "code",
   "execution_count": 52,
   "id": "662924fc-7e3c-40bf-b666-f624124594dd",
   "metadata": {},
   "outputs": [
    {
     "name": "stdout",
     "output_type": "stream",
     "text": [
      "2014.1801975701146\n"
     ]
    }
   ],
   "source": [
    "print(df['release_year'].mean())"
   ]
  },
  {
   "cell_type": "code",
   "execution_count": 54,
   "id": "6786a846-c2b3-4169-9d73-56e6a74bc78f",
   "metadata": {},
   "outputs": [
    {
     "name": "stdout",
     "output_type": "stream",
     "text": [
      "2017.0\n"
     ]
    }
   ],
   "source": [
    "print(df['release_year'].median())"
   ]
  },
  {
   "cell_type": "code",
   "execution_count": 55,
   "id": "25e78fb8-672b-4a5c-948a-d3e8e4d3cb9c",
   "metadata": {},
   "outputs": [
    {
     "name": "stdout",
     "output_type": "stream",
     "text": [
      "0    2018\n",
      "Name: release_year, dtype: int64\n"
     ]
    }
   ],
   "source": [
    "print(df['release_year'].mode())"
   ]
  },
  {
   "cell_type": "markdown",
   "id": "e0c81d23-af39-403b-a5af-fc90b2aef7fc",
   "metadata": {},
   "source": [
    "2)Find the variance and standard deviation of release_year."
   ]
  },
  {
   "cell_type": "code",
   "execution_count": 56,
   "id": "a9e002d3-8273-49ae-aa4e-c7c321e11af9",
   "metadata": {},
   "outputs": [
    {
     "name": "stdout",
     "output_type": "stream",
     "text": [
      "77.78026646107675\n"
     ]
    }
   ],
   "source": [
    "print(df['release_year'].var())"
   ]
  },
  {
   "cell_type": "code",
   "execution_count": 57,
   "id": "7898e07a-86b2-4cb3-9c4e-c6399d441ec0",
   "metadata": {},
   "outputs": [
    {
     "name": "stdout",
     "output_type": "stream",
     "text": [
      "8.819312130834057\n"
     ]
    }
   ],
   "source": [
    "print(df['release_year'].std())"
   ]
  },
  {
   "cell_type": "markdown",
   "id": "156ffbc3-aeaf-4d0b-96ea-b5fb0c1fc3e8",
   "metadata": {},
   "source": [
    "3)Percentage of titles added in the last 5 years."
   ]
  },
  {
   "cell_type": "code",
   "execution_count": 63,
   "id": "f3c22a5b-2b13-4bdd-ad9f-01193f782692",
   "metadata": {},
   "outputs": [
    {
     "name": "stdout",
     "output_type": "stream",
     "text": [
      "92.70%\n"
     ]
    }
   ],
   "source": [
    "df[\"date_added\"] = pd.to_datetime(df[\"date_added\"], errors=\"coerce\")\n",
    "latest_year = df[\"date_added\"].dt.year.max()\n",
    "last_5_years = df[df[\"date_added\"].dt.year >= latest_year - 4]\n",
    "percentage = (len(last_5_years) / len(df)) * 100\n",
    "\n",
    "print(f\"{percentage:.2f}%\")\n"
   ]
  },
  {
   "cell_type": "markdown",
   "id": "0ef49007-8917-4fa1-bd22-2bf6a35803ae",
   "metadata": {},
   "source": [
    "4)Find the most common rating for Movies and TV Shows separately."
   ]
  },
  {
   "cell_type": "code",
   "execution_count": 68,
   "id": "a4156763-685f-4ac3-99a2-a5774459c34e",
   "metadata": {},
   "outputs": [
    {
     "name": "stdout",
     "output_type": "stream",
     "text": [
      "0    TV-MA\n",
      "Name: rating, dtype: object\n",
      "0    TV-MA\n",
      "Name: rating, dtype: object\n"
     ]
    }
   ],
   "source": [
    "print(df[df[\"type\"] == \"Movie\"][\"rating\"].mode())\n",
    "print(df[df[\"type\"] == \"TV Show\"][\"rating\"].mode())"
   ]
  },
  {
   "cell_type": "markdown",
   "id": "3f7007a9-378e-419c-a86f-db5d0a04a234",
   "metadata": {},
   "source": [
    "                            Part 4 – Linear Algebra & NumPy"
   ]
  },
  {
   "cell_type": "markdown",
   "id": "5f75ea36-0ab9-4fe1-bf7d-026bcfd88277",
   "metadata": {},
   "source": [
    "1)Create a NumPy array of release_year."
   ]
  },
  {
   "cell_type": "code",
   "execution_count": 69,
   "id": "84747113-cf69-428f-849d-797c9fbab259",
   "metadata": {},
   "outputs": [
    {
     "name": "stdout",
     "output_type": "stream",
     "text": [
      "[2020 2021 2021 ... 2009 2006 2015]\n"
     ]
    }
   ],
   "source": [
    "arr1=(df[\"release_year\"].to_numpy())\n",
    "print(arr1)"
   ]
  },
  {
   "cell_type": "code",
   "execution_count": null,
   "id": "1e9e813a-ff10-48f2-99c1-85c9921df4dc",
   "metadata": {},
   "outputs": [],
   "source": [
    "2)Create a NumPy binary array for is_movie (1 if type=Movie else 0)."
   ]
  },
  {
   "cell_type": "code",
   "execution_count": 71,
   "id": "eb20463b-05fc-4c68-aa80-7a6c63e0986a",
   "metadata": {},
   "outputs": [
    {
     "name": "stdout",
     "output_type": "stream",
     "text": [
      "[1 0 0 ... 1 1 1]\n"
     ]
    }
   ],
   "source": [
    "is_movie = np.where(df[\"type\"] == \"Movie\", 1, 0)\n",
    "print(is_movie)"
   ]
  },
  {
   "cell_type": "markdown",
   "id": "f8c71e7a-0e4e-4197-98c5-bfa7e472c617",
   "metadata": {},
   "source": [
    "3)Perform vector addition of release_year array and is_movie array."
   ]
  },
  {
   "cell_type": "code",
   "execution_count": 85,
   "id": "ca59a74f-325d-4afd-ae7c-b2294cedd6c5",
   "metadata": {},
   "outputs": [
    {
     "name": "stdout",
     "output_type": "stream",
     "text": [
      "[2021 2021 2021 ... 2010 2007 2016]\n"
     ]
    }
   ],
   "source": [
    "release_year = df[\"release_year\"].to_numpy()\n",
    "is_movie = np.where(df[\"type\"] == \"Movie\", 1, 0)\n",
    "vector_sum = release_year + is_movie\n",
    "print(vector_sum)\n"
   ]
  },
  {
   "cell_type": "markdown",
   "id": "2fa35d62-d01b-4656-b170-2fd1ef409a6b",
   "metadata": {},
   "source": [
    "4)Compute the dot product of release_year and is_movie arrays."
   ]
  },
  {
   "cell_type": "code",
   "execution_count": 84,
   "id": "7999c81f-2c46-4a1d-b36f-a20feb67a83b",
   "metadata": {},
   "outputs": [
    {
     "name": "stdout",
     "output_type": "stream",
     "text": [
      "12342448\n"
     ]
    }
   ],
   "source": [
    "\n",
    "release_year = df[\"release_year\"].to_numpy()\n",
    "is_movie = np.where(df[\"type\"] == \"Movie\", 1, 0)\n",
    "\n",
    "dot_product = np.dot(release_year, is_movie)\n",
    "\n",
    "print(dot_product)\n"
   ]
  },
  {
   "cell_type": "markdown",
   "id": "2f5ccdc8-cacc-4b0b-8816-0fb9b9151aef",
   "metadata": {},
   "source": [
    "5)Create a feature matrix with [release_year, is_movie] and multiply with weights [0.6, 0.4]."
   ]
  },
  {
   "cell_type": "code",
   "execution_count": 87,
   "id": "aae70b15-cee7-4747-93bc-d06c9f9d8e7e",
   "metadata": {},
   "outputs": [
    {
     "name": "stdout",
     "output_type": "stream",
     "text": [
      "[1212.4 1212.6 1212.6 ... 1205.8 1204.  1209.4]\n"
     ]
    }
   ],
   "source": [
    "feature_matrix = np.column_stack((release_year, is_movie))\n",
    "weights = np.array([0.6, 0.4])\n",
    "weighted_sum = feature_matrix @ weights  \n",
    "print(weighted_sum)"
   ]
  },
  {
   "cell_type": "markdown",
   "id": "23a6670e-c8e2-40c1-8ec8-c63e270bb688",
   "metadata": {},
   "source": [
    "6)Normalize the release_year column using vector normalization."
   ]
  },
  {
   "cell_type": "code",
   "execution_count": 88,
   "id": "7cdf6de6-c50c-4535-863b-701051e82fa2",
   "metadata": {},
   "outputs": [
    {
     "name": "stdout",
     "output_type": "stream",
     "text": [
      "[0.01068649 0.01069178 0.01069178 ... 0.01062829 0.01061242 0.01066003]\n"
     ]
    }
   ],
   "source": [
    "release_year_norm = release_year / np.linalg.norm(release_year)\n",
    "print(release_year_norm)"
   ]
  },
  {
   "cell_type": "markdown",
   "id": "3f744098-460b-4a30-af23-b0cf33a93ae8",
   "metadata": {},
   "source": [
    "                                Part 5 – Calculus"
   ]
  },
  {
   "cell_type": "markdown",
   "id": "77b82eba-4357-4ebc-ace0-c9282f9ae0cf",
   "metadata": {},
   "source": [
    "1)Assume a function:\n",
    " Popularity_Score = (is_movie×release_year) + 0.5×(release_year−2000)^2\n",
    " Find the derivative with respect to release_year.\n"
   ]
  },
  {
   "cell_type": "code",
   "execution_count": 89,
   "id": "fe47f47f-52e1-4e67-a498-9039e2ab486d",
   "metadata": {},
   "outputs": [
    {
     "name": "stdout",
     "output_type": "stream",
     "text": [
      "[21 21 21 ... 10  7 16]\n"
     ]
    }
   ],
   "source": [
    "release_year = df[\"release_year\"].to_numpy()\n",
    "is_movie = np.where(df[\"type\"] == \"Movie\", 1, 0)\n",
    "print(is_movie + (release_year - 2000))"
   ]
  },
  {
   "cell_type": "markdown",
   "id": "3f457037-b1e0-4f3f-9565-6e7a08201a32",
   "metadata": {},
   "source": [
    "                          Part 6 – Feature Engineering"
   ]
  },
  {
   "cell_type": "markdown",
   "id": "d134e2bc-8466-4dcc-8920-7cda46bea700",
   "metadata": {},
   "source": [
    "1)Create content_age = 2025 - release_year."
   ]
  },
  {
   "cell_type": "code",
   "execution_count": 93,
   "id": "c6a0e26b-1db7-45d9-be81-6d83daa1efb8",
   "metadata": {},
   "outputs": [
    {
     "name": "stdout",
     "output_type": "stream",
     "text": [
      "   release_year  content_age\n",
      "0          2020            5\n",
      "1          2021            4\n",
      "2          2021            4\n",
      "3          2021            4\n",
      "4          2021            4\n"
     ]
    }
   ],
   "source": [
    "df[\"content_age\"] = 2025 - df[\"release_year\"]\n",
    "print(df[[\"release_year\", \"content_age\"]].head())"
   ]
  },
  {
   "cell_type": "markdown",
   "id": "0b7620ae-d463-4373-8fe8-e68688d15e78",
   "metadata": {},
   "source": [
    "2)Create is_movie column (1 if type='Movie', else 0)."
   ]
  },
  {
   "cell_type": "code",
   "execution_count": 95,
   "id": "685b5232-6a61-4a20-8f58-71ace9728b32",
   "metadata": {},
   "outputs": [
    {
     "name": "stdout",
     "output_type": "stream",
     "text": [
      "         type  is_movie\n",
      "0       Movie         1\n",
      "1     TV Show         0\n",
      "2     TV Show         0\n",
      "3     TV Show         0\n",
      "4     TV Show         0\n",
      "...       ...       ...\n",
      "8802    Movie         1\n",
      "8803  TV Show         0\n",
      "8804    Movie         1\n",
      "8805    Movie         1\n",
      "8806    Movie         1\n",
      "\n",
      "[8807 rows x 2 columns]\n"
     ]
    }
   ],
   "source": [
    "df[\"is_movie\"] = (df[\"type\"] == \"Movie\").astype(int)\n",
    "print(df[[\"type\", \"is_movie\"]].head(8807))"
   ]
  },
  {
   "cell_type": "markdown",
   "id": "1cf720c4-d803-4de0-b93d-9f35a97af5b7",
   "metadata": {},
   "source": [
    "3)Create recent_release (1 if release_year >= 2020, else 0)."
   ]
  },
  {
   "cell_type": "code",
   "execution_count": 100,
   "id": "9cafc05b-3eaf-4d25-b6b7-ec5f8db6a262",
   "metadata": {},
   "outputs": [
    {
     "name": "stdout",
     "output_type": "stream",
     "text": [
      "      release_year  recent_release\n",
      "0             2020             1.0\n",
      "1             2021             1.0\n",
      "2             2021             1.0\n",
      "3             2021             1.0\n",
      "4             2021             1.0\n",
      "...            ...             ...\n",
      "8802          2007             NaN\n",
      "8803          2018             NaN\n",
      "8804          2009             NaN\n",
      "8805          2006             NaN\n",
      "8806          2015             NaN\n",
      "\n",
      "[8807 rows x 2 columns]\n"
     ]
    }
   ],
   "source": [
    "df[\"recent_release\"] = (df[\"release_year\"] >= 2020).astype(int).head()\n",
    "print(df[[\"release_year\", \"recent_release\"]].head(8807))"
   ]
  },
  {
   "cell_type": "markdown",
   "id": "e38afefd-a9fc-4e5d-9fdc-76f1af6bee21",
   "metadata": {},
   "source": [
    "4)Create num_genres = count of genres in listed_in."
   ]
  },
  {
   "cell_type": "code",
   "execution_count": 101,
   "id": "94b82d05-4674-44e5-97b0-1d0339d8b1c1",
   "metadata": {},
   "outputs": [
    {
     "name": "stdout",
     "output_type": "stream",
     "text": [
      "                                              listed_in  num_genres\n",
      "0                                         Documentaries           1\n",
      "1       International TV Shows, TV Dramas, TV Mysteries           3\n",
      "2     Crime TV Shows, International TV Shows, TV Act...           3\n",
      "3                                Docuseries, Reality TV           2\n",
      "4     International TV Shows, Romantic TV Shows, TV ...           3\n",
      "...                                                 ...         ...\n",
      "8802                     Cult Movies, Dramas, Thrillers           3\n",
      "8803             Kids' TV, Korean TV Shows, TV Comedies           3\n",
      "8804                            Comedies, Horror Movies           2\n",
      "8805                 Children & Family Movies, Comedies           2\n",
      "8806     Dramas, International Movies, Music & Musicals           3\n",
      "\n",
      "[8807 rows x 2 columns]\n"
     ]
    }
   ],
   "source": [
    "df[\"num_genres\"] = df[\"listed_in\"].str.split(\",\").apply(len)\n",
    "print(df[[\"listed_in\", \"num_genres\"]].head(8807))"
   ]
  },
  {
   "cell_type": "markdown",
   "id": "42b68e39-35d1-4326-b28d-106419920c51",
   "metadata": {},
   "source": [
    "5)Rank titles into quartiles based on release_year."
   ]
  },
  {
   "cell_type": "code",
   "execution_count": 102,
   "id": "3908eb81-64e1-49fd-bc9a-1dea5cdc8eca",
   "metadata": {},
   "outputs": [
    {
     "name": "stdout",
     "output_type": "stream",
     "text": [
      "   release_year release_year_quartile\n",
      "0          2020                     4\n",
      "1          2021                     4\n",
      "2          2021                     4\n",
      "3          2021                     4\n",
      "4          2021                     4\n"
     ]
    }
   ],
   "source": [
    "df[\"release_year_quartile\"] = pd.qcut(df[\"release_year\"], 4, labels=[1, 2, 3, 4])\n",
    "print(df[[\"release_year\", \"release_year_quartile\"]].head())\n"
   ]
  },
  {
   "cell_type": "markdown",
   "id": "870d6cc1-c226-49a5-bb64-9aca89b886d5",
   "metadata": {},
   "source": [
    "                          Part 7 – SQL Simulation in Pandas"
   ]
  },
  {
   "cell_type": "markdown",
   "id": "8a8d3a2e-3af1-4554-9be9-86dab49a152b",
   "metadata": {},
   "source": [
    "1)Select all titles where type = 'Movie' and release_year > 2015."
   ]
  },
  {
   "cell_type": "code",
   "execution_count": 103,
   "id": "b6615f5e-8980-4bd2-b58f-6d9f1d392492",
   "metadata": {},
   "outputs": [
    {
     "name": "stdout",
     "output_type": "stream",
     "text": [
      "     show_id   type                             title  \\\n",
      "0         s1  Movie              Dick Johnson Is Dead   \n",
      "6         s7  Movie  My Little Pony: A New Generation   \n",
      "9        s10  Movie                      The Starling   \n",
      "12       s13  Movie                      Je Suis Karl   \n",
      "13       s14  Movie  Confessions of an Invisible Girl   \n",
      "...      ...    ...                               ...   \n",
      "8781   s8782  Movie           Yo-Kai Watch: The Movie   \n",
      "8782   s8783  Movie                       Yoga Hosers   \n",
      "8786   s8787  Movie                      You Can Tutu   \n",
      "8787   s8788  Movie         You Can’t Fight Christmas   \n",
      "8794   s8795  Movie                            اشتباك   \n",
      "\n",
      "                           director  \\\n",
      "0                   Kirsten Johnson   \n",
      "6     Robert Cullen, José Luis Ucha   \n",
      "9                    Theodore Melfi   \n",
      "12              Christian Schwochow   \n",
      "13                    Bruno Garotti   \n",
      "...                             ...   \n",
      "8781                    Mark Risley   \n",
      "8782                    Kevin Smith   \n",
      "8786                    James Brown   \n",
      "8787                    Kenny Young   \n",
      "8794                   Mohamed Diab   \n",
      "\n",
      "                                                   cast  \\\n",
      "0                                                   NaN   \n",
      "6     Vanessa Hudgens, Kimiko Glenn, James Marsden, ...   \n",
      "9     Melissa McCarthy, Chris O'Dowd, Kevin Kline, T...   \n",
      "12    Luna Wedler, Jannis Niewöhner, Milan Peschel, ...   \n",
      "13    Klara Castanho, Lucca Picon, Júlia Gomes, Marc...   \n",
      "...                                                 ...   \n",
      "8781  Johnny Yong Bosch, Joey D'Auria, Alicyn Packar...   \n",
      "8782  Harley Quinn Smith, Lily-Rose Depp, Johnny Dep...   \n",
      "8786  Lily O'Regan, Jeannettsy Enriquez Borges, Joel...   \n",
      "8787  Brely Evans, Andra Fuller, Persia White, Porsc...   \n",
      "8794  Nelly Karim, Hany Adel, Tarek Abdel Aziz, Ahme...   \n",
      "\n",
      "                      country date_added  release_year rating duration  \\\n",
      "0               United States 2021-09-25          2020  PG-13   90 min   \n",
      "6                         NaN 2021-09-24          2021     PG   91 min   \n",
      "9               United States 2021-09-24          2021  PG-13  104 min   \n",
      "12    Germany, Czech Republic 2021-09-23          2021  TV-MA  127 min   \n",
      "13                        NaN 2021-09-22          2021  TV-PG   91 min   \n",
      "...                       ...        ...           ...    ...      ...   \n",
      "8781     Japan, United States 2016-12-01          2016  TV-Y7   96 min   \n",
      "8782            United States 2016-12-02          2016  PG-13   88 min   \n",
      "8786           United Kingdom 2017-12-31          2017   TV-G   87 min   \n",
      "8787            United States 2017-12-19          2017  TV-PG   85 min   \n",
      "8794            Egypt, France 2018-10-11          2016  TV-14   98 min   \n",
      "\n",
      "                                             listed_in  \\\n",
      "0                                        Documentaries   \n",
      "6                             Children & Family Movies   \n",
      "9                                     Comedies, Dramas   \n",
      "12                        Dramas, International Movies   \n",
      "13                  Children & Family Movies, Comedies   \n",
      "...                                                ...   \n",
      "8781          Anime Features, Children & Family Movies   \n",
      "8782       Comedies, Horror Movies, Independent Movies   \n",
      "8786                          Children & Family Movies   \n",
      "8787                         Comedies, Romantic Movies   \n",
      "8794  Dramas, Independent Movies, International Movies   \n",
      "\n",
      "                                            description  year_added  \\\n",
      "0     As her father nears the end of his life, filmm...      2021.0   \n",
      "6     Equestria's divided. But a bright-eyed hero be...      2021.0   \n",
      "9     A woman adjusting to life after a loss contend...      2021.0   \n",
      "12    After most of her family is murdered in a terr...      2021.0   \n",
      "13    When the clever but socially-awkward Tetê join...      2021.0   \n",
      "...                                                 ...         ...   \n",
      "8781  Nate's special Yo-Kai Watch is missing. He tra...      2016.0   \n",
      "8782  With an all-important high school party at sta...      2016.0   \n",
      "8786  A gifted young ballet dancer struggles to find...      2017.0   \n",
      "8787  After stepping in to revitalize his family's h...      2017.0   \n",
      "8794  Amid the tumult following Egyptian President M...      2018.0   \n",
      "\n",
      "      content_age  is_movie  recent_release  num_genres release_year_quartile  \n",
      "0               5         1             1.0           1                     4  \n",
      "6               4         1             NaN           1                     4  \n",
      "9               4         1             NaN           2                     4  \n",
      "12              4         1             NaN           2                     4  \n",
      "13              4         1             NaN           2                     4  \n",
      "...           ...       ...             ...         ...                   ...  \n",
      "8781            9         1             NaN           2                     2  \n",
      "8782            9         1             NaN           3                     2  \n",
      "8786            8         1             NaN           1                     2  \n",
      "8787            8         1             NaN           2                     2  \n",
      "8794            9         1             NaN           3                     2  \n",
      "\n",
      "[3619 rows x 18 columns]\n"
     ]
    }
   ],
   "source": [
    "after_2015 = df[(df[\"type\"] == \"Movie\") & (df[\"release_year\"] > 2015)]\n",
    "print(after_2015)"
   ]
  },
  {
   "cell_type": "markdown",
   "id": "992cf4ff-1075-4e3e-a054-a1443beee1c7",
   "metadata": {},
   "source": [
    "2)Sort movies by release_year descending and title ascending."
   ]
  },
  {
   "cell_type": "code",
   "execution_count": 104,
   "id": "8e8d5757-2aab-435b-b219-2f0b5ffe4315",
   "metadata": {},
   "outputs": [
    {
     "name": "stdout",
     "output_type": "stream",
     "text": [
      "     show_id   type                            title                 director  \\\n",
      "1150   s1151  Movie  7 Yards: The Chris Norton Story            Jonathon Link   \n",
      "850     s851  Movie                         99 Songs  Vishwesh Krishnamoorthy   \n",
      "851     s852  Movie                 99 Songs (Tamil)                      NaN   \n",
      "852     s853  Movie                99 Songs (Telugu)                      NaN   \n",
      "404     s405  Movie    9to5: The Story of a Movement                      NaN   \n",
      "\n",
      "                                                   cast        country  \\\n",
      "1150                                       Chris Norton  United States   \n",
      "850   Ehan Bhat, Edilsy Vargas, Manisha Koirala, Lis...          India   \n",
      "851                                                 NaN            NaN   \n",
      "852                                                 NaN            NaN   \n",
      "404                                                 NaN            NaN   \n",
      "\n",
      "     date_added  release_year rating duration  \\\n",
      "1150 2021-03-30          2021  TV-PG   93 min   \n",
      "850  2021-05-21          2021  TV-14  131 min   \n",
      "851  2021-05-21          2021  TV-14  131 min   \n",
      "852  2021-05-21          2021  TV-14  131 min   \n",
      "404  2021-07-22          2021  TV-MA   85 min   \n",
      "\n",
      "                                           listed_in  \\\n",
      "1150                                   Documentaries   \n",
      "850   Dramas, International Movies, Music & Musicals   \n",
      "851   Dramas, International Movies, Music & Musicals   \n",
      "852   Dramas, International Movies, Music & Musicals   \n",
      "404                                    Documentaries   \n",
      "\n",
      "                                            description  year_added  \\\n",
      "1150  The true story of former college football play...      2021.0   \n",
      "850   Challenged to compose 100 songs before he can ...      2021.0   \n",
      "851   Challenged to compose 100 songs before he can ...      2021.0   \n",
      "852   Challenged to compose 100 songs before he can ...      2021.0   \n",
      "404   In this documentary, female office workers in ...      2021.0   \n",
      "\n",
      "      content_age  is_movie  recent_release  num_genres release_year_quartile  \n",
      "1150            4         1             NaN           1                     4  \n",
      "850             4         1             NaN           3                     4  \n",
      "851             4         1             NaN           3                     4  \n",
      "852             4         1             NaN           3                     4  \n",
      "404             4         1             NaN           1                     4  \n"
     ]
    }
   ],
   "source": [
    "movies_sorted = df[df[\"type\"] == \"Movie\"].sort_values(\n",
    "    by=[\"release_year\", \"title\"],\n",
    "    ascending=[False, True]\n",
    ")\n",
    "print(movies_sorted.head())"
   ]
  },
  {
   "cell_type": "markdown",
   "id": "2bf47ccc-cbec-4a7c-967b-9b94c98d1cac",
   "metadata": {},
   "source": [
    "3)Get the top 5 countries by number of titles, sorted by count descending."
   ]
  },
  {
   "cell_type": "code",
   "execution_count": 105,
   "id": "b3a575e7-5968-4dee-984d-e0526591d418",
   "metadata": {},
   "outputs": [
    {
     "name": "stdout",
     "output_type": "stream",
     "text": [
      "country\n",
      "United States     2818\n",
      "India              972\n",
      "United Kingdom     419\n",
      "Japan              245\n",
      "South Korea        199\n",
      "Name: count, dtype: int64\n"
     ]
    }
   ],
   "source": [
    "top_5_countries = df[\"country\"].value_counts().head(5)\n",
    "print(top_5_countries)"
   ]
  },
  {
   "cell_type": "markdown",
   "id": "cf2a258b-0cde-4a7a-b71e-43e3c5f1ffc3",
   "metadata": {},
   "source": [
    "4)Get all titles released between 2000 and 2010"
   ]
  },
  {
   "cell_type": "code",
   "execution_count": 106,
   "id": "d34452fe-896d-4a31-8d32-de82d8c44aa0",
   "metadata": {},
   "outputs": [
    {
     "name": "stdout",
     "output_type": "stream",
     "text": [
      "     show_id   type                                              title  \\\n",
      "27       s28  Movie                                          Grown Ups   \n",
      "48       s49  Movie                                       Training Day   \n",
      "51       s52  Movie  InuYasha the Movie 2: The Castle Beyond the Lo...   \n",
      "52       s53  Movie  InuYasha the Movie 3: Swords of an Honorable R...   \n",
      "53       s54  Movie    InuYasha the Movie 4: Fire on the Mystic Island   \n",
      "...      ...    ...                                                ...   \n",
      "8793   s8794  Movie                               Yours, Mine and Ours   \n",
      "8799   s8800  Movie                                              Zenda   \n",
      "8802   s8803  Movie                                             Zodiac   \n",
      "8804   s8805  Movie                                         Zombieland   \n",
      "8805   s8806  Movie                                               Zoom   \n",
      "\n",
      "               director                                               cast  \\\n",
      "27         Dennis Dugan  Adam Sandler, Kevin James, Chris Rock, David S...   \n",
      "48        Antoine Fuqua  Denzel Washington, Ethan Hawke, Scott Glenn, T...   \n",
      "51    Toshiya Shinohara  Kappei Yamaguchi, Satsuki Yukino, Mieko Harada...   \n",
      "52    Toshiya Shinohara  Kappei Yamaguchi, Satsuki Yukino, Koji Tsujita...   \n",
      "53    Toshiya Shinohara  Kappei Yamaguchi, Satsuki Yukino, Koji Tsujita...   \n",
      "...                 ...                                                ...   \n",
      "8793       Raja Gosnell  Dennis Quaid, Rene Russo, Sean Faris, Katija P...   \n",
      "8799     Avadhoot Gupte  Santosh Juvekar, Siddharth Chandekar, Sachit P...   \n",
      "8802      David Fincher  Mark Ruffalo, Jake Gyllenhaal, Robert Downey J...   \n",
      "8804    Ruben Fleischer  Jesse Eisenberg, Woody Harrelson, Emma Stone, ...   \n",
      "8805       Peter Hewitt  Tim Allen, Courteney Cox, Chevy Chase, Kate Ma...   \n",
      "\n",
      "            country date_added  release_year rating duration  \\\n",
      "27    United States 2021-09-20          2010  PG-13  103 min   \n",
      "48    United States 2021-09-16          2001      R  122 min   \n",
      "51            Japan 2021-09-15          2002  TV-14   99 min   \n",
      "52            Japan 2021-09-15          2003  TV-14   99 min   \n",
      "53            Japan 2021-09-15          2004  TV-PG   88 min   \n",
      "...             ...        ...           ...    ...      ...   \n",
      "8793  United States 2019-11-20          2005     PG   88 min   \n",
      "8799          India 2018-02-15          2009  TV-14  120 min   \n",
      "8802  United States 2019-11-20          2007      R  158 min   \n",
      "8804  United States 2019-11-01          2009      R   88 min   \n",
      "8805  United States 2020-01-11          2006     PG   88 min   \n",
      "\n",
      "                                              listed_in  \\\n",
      "27                                             Comedies   \n",
      "48                                    Dramas, Thrillers   \n",
      "51    Action & Adventure, Anime Features, Internatio...   \n",
      "52    Action & Adventure, Anime Features, Internatio...   \n",
      "53    Action & Adventure, Anime Features, Internatio...   \n",
      "...                                                 ...   \n",
      "8793                 Children & Family Movies, Comedies   \n",
      "8799                       Dramas, International Movies   \n",
      "8802                     Cult Movies, Dramas, Thrillers   \n",
      "8804                            Comedies, Horror Movies   \n",
      "8805                 Children & Family Movies, Comedies   \n",
      "\n",
      "                                            description  year_added  \\\n",
      "27    Mourning the loss of their beloved junior high...      2021.0   \n",
      "48    A rookie cop with one day to prove himself to ...      2021.0   \n",
      "51    With their biggest foe seemingly defeated, Inu...      2021.0   \n",
      "52    The Great Dog Demon beaqueathed one of the Thr...      2021.0   \n",
      "53    Ai, a young half-demon who has escaped from Ho...      2021.0   \n",
      "...                                                 ...         ...   \n",
      "8793  When a father of eight and a mother of 10 prep...      2019.0   \n",
      "8799  A change in the leadership of a political part...      2018.0   \n",
      "8802  A political cartoonist, a crime reporter and a...      2019.0   \n",
      "8804  Looking to survive in a world taken over by zo...      2019.0   \n",
      "8805  Dragged from civilian life, a former superhero...      2020.0   \n",
      "\n",
      "      content_age  is_movie  recent_release  num_genres release_year_quartile  \n",
      "27             15         1             NaN           1                     1  \n",
      "48             24         1             NaN           2                     1  \n",
      "51             23         1             NaN           3                     1  \n",
      "52             22         1             NaN           3                     1  \n",
      "53             21         1             NaN           3                     1  \n",
      "...           ...       ...             ...         ...                   ...  \n",
      "8793           20         1             NaN           2                     1  \n",
      "8799           16         1             NaN           2                     1  \n",
      "8802           18         1             NaN           3                     1  \n",
      "8804           16         1             NaN           2                     1  \n",
      "8805           19         1             NaN           2                     1  \n",
      "\n",
      "[1004 rows x 18 columns]\n"
     ]
    }
   ],
   "source": [
    "titles_2000_2010 = df[(df[\"release_year\"] >= 2000) & (df[\"release_year\"] <= 2010)]\n",
    "print(titles_2000_2010)"
   ]
  },
  {
   "cell_type": "markdown",
   "id": "88b589b7-d9a8-4ea5-b0a8-b7acd04ab0c6",
   "metadata": {},
   "source": [
    "5)Count how many titles have “Drama” in their listed_in column."
   ]
  },
  {
   "cell_type": "code",
   "execution_count": 107,
   "id": "e4c227f3-2fad-4919-8eb5-3fd2f405ec26",
   "metadata": {},
   "outputs": [
    {
     "name": "stdout",
     "output_type": "stream",
     "text": [
      "Number of titles with Drama: 3190\n"
     ]
    }
   ],
   "source": [
    "drama_count = df[\"listed_in\"].str.contains(\"Drama\", case=False, na=False).sum()\n",
    "print(\"Number of titles with Drama:\", drama_count)"
   ]
  },
  {
   "cell_type": "markdown",
   "id": "f17e3f3d-f5b2-4e26-be2d-9047d5caaad5",
   "metadata": {},
   "source": [
    "                            Part 8 – Insights"
   ]
  },
  {
   "cell_type": "markdown",
   "id": "d1317254-6a71-4de9-bd30-49ca6eeb6414",
   "metadata": {},
   "source": [
    "1)Which country produces the most Netflix content?"
   ]
  },
  {
   "cell_type": "code",
   "execution_count": 108,
   "id": "21433702-bbf1-45d2-8abc-6b2dca3dc482",
   "metadata": {},
   "outputs": [
    {
     "name": "stdout",
     "output_type": "stream",
     "text": [
      "The country with the most Netflix content is United States with 2818 titles.\n"
     ]
    }
   ],
   "source": [
    "top_country = df[\"country\"].value_counts().idxmax()\n",
    "top_count = df[\"country\"].value_counts().max()\n",
    "print(f\"The country with the most Netflix content is {top_country} with {top_count} titles.\")"
   ]
  },
  {
   "cell_type": "markdown",
   "id": "0dd52679-e432-4d15-8151-b1ebbce698df",
   "metadata": {},
   "source": [
    "2)Which year had the highest content release?"
   ]
  },
  {
   "cell_type": "code",
   "execution_count": 109,
   "id": "684cbfcf-4d15-4d49-b2c1-3d785d5a238f",
   "metadata": {},
   "outputs": [
    {
     "name": "stdout",
     "output_type": "stream",
     "text": [
      "The year with the highest content release is 2018 with 1147 titles.\n"
     ]
    }
   ],
   "source": [
    "year_counts = df[\"release_year\"].value_counts()\n",
    "top_year = year_counts.idxmax()\n",
    "top_count = year_counts.max()\n",
    "print(f\"The year with the highest content release is {top_year} with {top_count} titles.\")"
   ]
  },
  {
   "cell_type": "markdown",
   "id": "81d9bc0a-27fe-4ec7-8b04-ccb5e62f3ca1",
   "metadata": {},
   "source": [
    "3)Are Movies or TV Shows more frequent?"
   ]
  },
  {
   "cell_type": "code",
   "execution_count": 110,
   "id": "e3058fcd-dcc1-4a08-90a1-83458c00d69e",
   "metadata": {},
   "outputs": [
    {
     "name": "stdout",
     "output_type": "stream",
     "text": [
      "type\n",
      "Movie      6131\n",
      "TV Show    2676\n",
      "Name: count, dtype: int64\n",
      "\n",
      "Most frequent: Movie with 6131 titles.\n"
     ]
    }
   ],
   "source": [
    "type_counts = df[\"type\"].value_counts()\n",
    "freq_type = type_counts.idxmax()\n",
    "freq_count = type_counts.max()\n",
    "print(type_counts)\n",
    "print(f\"\\nMost frequent: {freq_type} with {freq_count} titles.\")"
   ]
  },
  {
   "cell_type": "markdown",
   "id": "4c495edd-208d-4358-908d-8b2d71bc90c5",
   "metadata": {},
   "source": [
    "4)Which genre appears most frequently on Netflix?"
   ]
  },
  {
   "cell_type": "code",
   "execution_count": 117,
   "id": "977f475a-0d0e-4cb0-8806-b6ba725fe71e",
   "metadata": {},
   "outputs": [
    {
     "name": "stdout",
     "output_type": "stream",
     "text": [
      "International Movies\n"
     ]
    }
   ],
   "source": [
    "all_genres = df[\"listed_in\"].str.split(\", \").explode()\n",
    "top_genre = all_genres.value_counts().idxmax()\n",
    "top_count = all_genres.value_counts().max()\n",
    "\n",
    "print(f'{top_genre}')\n"
   ]
  },
  {
   "cell_type": "code",
   "execution_count": null,
   "id": "fc463b55-b709-40bd-b7fe-0b84c957995d",
   "metadata": {},
   "outputs": [],
   "source": [
    "                                 EXTRA TASKS"
   ]
  },
  {
   "cell_type": "code",
   "execution_count": null,
   "id": "7b443ce6-7cd4-485d-ae08-880272eaf71b",
   "metadata": {},
   "outputs": [],
   "source": [
    "PLOTTING TOP 10 GENERES ON NETFLIX"
   ]
  },
  {
   "cell_type": "code",
   "execution_count": 118,
   "id": "87ac9d69-aee4-463f-9584-73ca56f3124c",
   "metadata": {},
   "outputs": [
    {
     "data": {
      "image/png": "[encoded data removed]",
      "text/plain": [
       "<Figure size 800x500 with 1 Axes>"
      ]
     },
     "metadata": {},
     "output_type": "display_data"
    }
   ],
   "source": [
    "all_genres = df[\"listed_in\"].str.split(\", \").explode()\n",
    "top_genres = all_genres.value_counts().head(10)\n",
    "plt.figure(figsize=(8,5))\n",
    "top_genres.plot(kind=\"bar\", color='green', edgecolor=\"black\")\n",
    "plt.title(\"Top 10 Genres on Netflix\", fontsize=14)\n",
    "plt.ylabel(\"Number of Titles\")\n",
    "plt.xticks(rotation=45, ha='right')\n",
    "plt.show()"
   ]
  },
  {
   "cell_type": "code",
   "execution_count": null,
   "id": "9f2fe336-8aef-425a-92aa-11f25bb949ed",
   "metadata": {},
   "outputs": [],
   "source": []
  },
  {
   "cell_type": "code",
   "execution_count": 120,
   "id": "83d98789-6eec-4e37-8f56-cae878564b6b",
   "metadata": {},
   "outputs": [
    {
     "name": "stdout",
     "output_type": "stream",
     "text": [
      "     show_id     type                  title         director  \\\n",
      "0         s1    Movie   Dick Johnson Is Dead  Kirsten Johnson   \n",
      "1         s2  TV Show          Blood & Water              NaN   \n",
      "2         s3  TV Show              Ganglands  Julien Leclercq   \n",
      "3         s4  TV Show  Jailbirds New Orleans              NaN   \n",
      "4         s5  TV Show           Kota Factory              NaN   \n",
      "...      ...      ...                    ...              ...   \n",
      "8802   s8803    Movie                 Zodiac    David Fincher   \n",
      "8803   s8804  TV Show            Zombie Dumb              NaN   \n",
      "8804   s8805    Movie             Zombieland  Ruben Fleischer   \n",
      "8805   s8806    Movie                   Zoom     Peter Hewitt   \n",
      "8806   s8807    Movie                 Zubaan      Mozez Singh   \n",
      "\n",
      "                                                   cast        country  \\\n",
      "0                                                   NaN  United States   \n",
      "1     Ama Qamata, Khosi Ngema, Gail Mabalane, Thaban...   South Africa   \n",
      "2     Sami Bouajila, Tracy Gotoas, Samuel Jouy, Nabi...            NaN   \n",
      "3                                                   NaN            NaN   \n",
      "4     Mayur More, Jitendra Kumar, Ranjan Raj, Alam K...          India   \n",
      "...                                                 ...            ...   \n",
      "8802  Mark Ruffalo, Jake Gyllenhaal, Robert Downey J...  United States   \n",
      "8803                                                NaN            NaN   \n",
      "8804  Jesse Eisenberg, Woody Harrelson, Emma Stone, ...  United States   \n",
      "8805  Tim Allen, Courteney Cox, Chevy Chase, Kate Ma...  United States   \n",
      "8806  Vicky Kaushal, Sarah-Jane Dias, Raaghav Chanan...          India   \n",
      "\n",
      "     date_added  release_year rating   duration  \\\n",
      "0    2021-09-25          2020  PG-13     90 min   \n",
      "1    2021-09-24          2021  TV-MA  2 Seasons   \n",
      "2    2021-09-24          2021  TV-MA   1 Season   \n",
      "3    2021-09-24          2021  TV-MA   1 Season   \n",
      "4    2021-09-24          2021  TV-MA  2 Seasons   \n",
      "...         ...           ...    ...        ...   \n",
      "8802 2019-11-20          2007      R    158 min   \n",
      "8803 2019-07-01          2018  TV-Y7  2 Seasons   \n",
      "8804 2019-11-01          2009      R     88 min   \n",
      "8805 2020-01-11          2006     PG     88 min   \n",
      "8806 2019-03-02          2015  TV-14    111 min   \n",
      "\n",
      "                                              listed_in  \\\n",
      "0                                         Documentaries   \n",
      "1       International TV Shows, TV Dramas, TV Mysteries   \n",
      "2     Crime TV Shows, International TV Shows, TV Act...   \n",
      "3                                Docuseries, Reality TV   \n",
      "4     International TV Shows, Romantic TV Shows, TV ...   \n",
      "...                                                 ...   \n",
      "8802                     Cult Movies, Dramas, Thrillers   \n",
      "8803             Kids' TV, Korean TV Shows, TV Comedies   \n",
      "8804                            Comedies, Horror Movies   \n",
      "8805                 Children & Family Movies, Comedies   \n",
      "8806     Dramas, International Movies, Music & Musicals   \n",
      "\n",
      "                                            description  year_added  \\\n",
      "0     As her father nears the end of his life, filmm...      2021.0   \n",
      "1     After crossing paths at a party, a Cape Town t...      2021.0   \n",
      "2     To protect his family from a powerful drug lor...      2021.0   \n",
      "3     Feuds, flirtations and toilet talk go down amo...      2021.0   \n",
      "4     In a city of coaching centers known to train I...      2021.0   \n",
      "...                                                 ...         ...   \n",
      "8802  A political cartoonist, a crime reporter and a...      2019.0   \n",
      "8803  While living alone in a spooky town, a young g...      2019.0   \n",
      "8804  Looking to survive in a world taken over by zo...      2019.0   \n",
      "8805  Dragged from civilian life, a former superhero...      2020.0   \n",
      "8806  A scrappy but poor boy worms his way into a ty...      2019.0   \n",
      "\n",
      "      content_age  is_movie  recent_release  num_genres release_year_quartile  \n",
      "0               5         1             1.0           1                     4  \n",
      "1               4         0             1.0           3                     4  \n",
      "2               4         0             1.0           3                     4  \n",
      "3               4         0             1.0           2                     4  \n",
      "4               4         0             1.0           3                     4  \n",
      "...           ...       ...             ...         ...                   ...  \n",
      "8802           18         1             NaN           3                     1  \n",
      "8803            7         0             NaN           3                     3  \n",
      "8804           16         1             NaN           2                     1  \n",
      "8805           19         1             NaN           2                     1  \n",
      "8806           10         1             NaN           3                     2  \n",
      "\n",
      "[8807 rows x 18 columns]\n"
     ]
    }
   ],
   "source": [
    "df[\"release_year_quartile\"] = pd.qcut(df[\"release_year\"], 4, labels=[1, 2, 3, 4])\n",
    "print(df.head(8807))"
   ]
  },
  {
   "cell_type": "code",
   "execution_count": 121,
   "id": "75d9521c-26e7-40c5-a24d-5ef1943772c4",
   "metadata": {},
   "outputs": [
    {
     "name": "stdout",
     "output_type": "stream",
     "text": [
      "     show_id     type                  title         director  \\\n",
      "0         s1    Movie   Dick Johnson Is Dead  Kirsten Johnson   \n",
      "1         s2  TV Show          Blood & Water              NaN   \n",
      "2         s3  TV Show              Ganglands  Julien Leclercq   \n",
      "3         s4  TV Show  Jailbirds New Orleans              NaN   \n",
      "4         s5  TV Show           Kota Factory              NaN   \n",
      "...      ...      ...                    ...              ...   \n",
      "8802   s8803    Movie                 Zodiac    David Fincher   \n",
      "8803   s8804  TV Show            Zombie Dumb              NaN   \n",
      "8804   s8805    Movie             Zombieland  Ruben Fleischer   \n",
      "8805   s8806    Movie                   Zoom     Peter Hewitt   \n",
      "8806   s8807    Movie                 Zubaan      Mozez Singh   \n",
      "\n",
      "                                                   cast        country  \\\n",
      "0                                                   NaN  United States   \n",
      "1     Ama Qamata, Khosi Ngema, Gail Mabalane, Thaban...   South Africa   \n",
      "2     Sami Bouajila, Tracy Gotoas, Samuel Jouy, Nabi...            NaN   \n",
      "3                                                   NaN            NaN   \n",
      "4     Mayur More, Jitendra Kumar, Ranjan Raj, Alam K...          India   \n",
      "...                                                 ...            ...   \n",
      "8802  Mark Ruffalo, Jake Gyllenhaal, Robert Downey J...  United States   \n",
      "8803                                                NaN            NaN   \n",
      "8804  Jesse Eisenberg, Woody Harrelson, Emma Stone, ...  United States   \n",
      "8805  Tim Allen, Courteney Cox, Chevy Chase, Kate Ma...  United States   \n",
      "8806  Vicky Kaushal, Sarah-Jane Dias, Raaghav Chanan...          India   \n",
      "\n",
      "     date_added  release_year rating   duration  \\\n",
      "0    2021-09-25          2020  PG-13     90 min   \n",
      "1    2021-09-24          2021  TV-MA  2 Seasons   \n",
      "2    2021-09-24          2021  TV-MA   1 Season   \n",
      "3    2021-09-24          2021  TV-MA   1 Season   \n",
      "4    2021-09-24          2021  TV-MA  2 Seasons   \n",
      "...         ...           ...    ...        ...   \n",
      "8802 2019-11-20          2007      R    158 min   \n",
      "8803 2019-07-01          2018  TV-Y7  2 Seasons   \n",
      "8804 2019-11-01          2009      R     88 min   \n",
      "8805 2020-01-11          2006     PG     88 min   \n",
      "8806 2019-03-02          2015  TV-14    111 min   \n",
      "\n",
      "                                              listed_in  \\\n",
      "0                                         Documentaries   \n",
      "1       International TV Shows, TV Dramas, TV Mysteries   \n",
      "2     Crime TV Shows, International TV Shows, TV Act...   \n",
      "3                                Docuseries, Reality TV   \n",
      "4     International TV Shows, Romantic TV Shows, TV ...   \n",
      "...                                                 ...   \n",
      "8802                     Cult Movies, Dramas, Thrillers   \n",
      "8803             Kids' TV, Korean TV Shows, TV Comedies   \n",
      "8804                            Comedies, Horror Movies   \n",
      "8805                 Children & Family Movies, Comedies   \n",
      "8806     Dramas, International Movies, Music & Musicals   \n",
      "\n",
      "                                            description  year_added  \\\n",
      "0     As her father nears the end of his life, filmm...      2021.0   \n",
      "1     After crossing paths at a party, a Cape Town t...      2021.0   \n",
      "2     To protect his family from a powerful drug lor...      2021.0   \n",
      "3     Feuds, flirtations and toilet talk go down amo...      2021.0   \n",
      "4     In a city of coaching centers known to train I...      2021.0   \n",
      "...                                                 ...         ...   \n",
      "8802  A political cartoonist, a crime reporter and a...      2019.0   \n",
      "8803  While living alone in a spooky town, a young g...      2019.0   \n",
      "8804  Looking to survive in a world taken over by zo...      2019.0   \n",
      "8805  Dragged from civilian life, a former superhero...      2020.0   \n",
      "8806  A scrappy but poor boy worms his way into a ty...      2019.0   \n",
      "\n",
      "      content_age  is_movie  recent_release  num_genres release_year_quartile  \n",
      "0               5         1               1           1                     4  \n",
      "1               4         0               1           3                     4  \n",
      "2               4         0               1           3                     4  \n",
      "3               4         0               1           2                     4  \n",
      "4               4         0               1           3                     4  \n",
      "...           ...       ...             ...         ...                   ...  \n",
      "8802           18         1               0           3                     1  \n",
      "8803            7         0               0           3                     3  \n",
      "8804           16         1               0           2                     1  \n",
      "8805           19         1               0           2                     1  \n",
      "8806           10         1               0           3                     2  \n",
      "\n",
      "[8807 rows x 18 columns]\n"
     ]
    }
   ],
   "source": [
    "df[\"recent_release\"] = (df[\"release_year\"] >= 2020).astype(int)\n",
    "print(df.head(8807))"
   ]
  },
  {
   "cell_type": "code",
   "execution_count": null,
   "id": "cdac84cb-9dc1-4274-8d16-02850b0acddd",
   "metadata": {},
   "outputs": [],
   "source": []
  }
 ],
 "metadata": {
  "kernelspec": {
   "display_name": "Python 3 (ipykernel)",
   "language": "python",
   "name": "python3"
  },
  "language_info": {
   "codemirror_mode": {
    "name": "ipython",
    "version": 3
   },
   "file_extension": ".py",
   "mimetype": "text/x-python",
   "name": "python",
   "nbconvert_exporter": "python",
   "pygments_lexer": "ipython3",
   "version": "3.13.5"
  }
 },
 "nbformat": 4,
 "nbformat_minor": 5
}
